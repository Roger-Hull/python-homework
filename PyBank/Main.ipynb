{
 "cells": [
  {
   "cell_type": "markdown",
   "id": "0ddf6a16",
   "metadata": {},
   "source": [
    "### Required outputs for PyBank Activity\n",
    "* The total number of months included in the dataset.\n",
    "* The net total amount of Profit/Losses over the entire period.\n",
    "* The average of the changes in Profit/Losses over the entire period.\n",
    "* The greatest increase in profits (date and amount) over the entire period.\n",
    "* The greatest decrease in losses (date and amount) over the entire period."
   ]
  },
  {
   "cell_type": "code",
   "execution_count": 1,
   "id": "df1699ae",
   "metadata": {},
   "outputs": [],
   "source": [
    "#import dependancies\n",
    "import pandas as pd\n",
    "import numpy as np"
   ]
  },
  {
   "cell_type": "code",
   "execution_count": 48,
   "id": "8aaa2298",
   "metadata": {},
   "outputs": [],
   "source": [
    "budget_data = pd.read_csv('budget_data.csv', parse_dates=True, index_col='Date')"
   ]
  },
  {
   "cell_type": "code",
   "execution_count": 49,
   "id": "81950fcd",
   "metadata": {},
   "outputs": [
    {
     "data": {
      "text/html": [
       "<div>\n",
       "<style scoped>\n",
       "    .dataframe tbody tr th:only-of-type {\n",
       "        vertical-align: middle;\n",
       "    }\n",
       "\n",
       "    .dataframe tbody tr th {\n",
       "        vertical-align: top;\n",
       "    }\n",
       "\n",
       "    .dataframe thead th {\n",
       "        text-align: right;\n",
       "    }\n",
       "</style>\n",
       "<table border=\"1\" class=\"dataframe\">\n",
       "  <thead>\n",
       "    <tr style=\"text-align: right;\">\n",
       "      <th></th>\n",
       "      <th>Profit/Losses</th>\n",
       "    </tr>\n",
       "    <tr>\n",
       "      <th>Date</th>\n",
       "      <th></th>\n",
       "    </tr>\n",
       "  </thead>\n",
       "  <tbody>\n",
       "    <tr>\n",
       "      <th>2010-01-01</th>\n",
       "      <td>867884</td>\n",
       "    </tr>\n",
       "    <tr>\n",
       "      <th>2010-02-01</th>\n",
       "      <td>984655</td>\n",
       "    </tr>\n",
       "    <tr>\n",
       "      <th>2010-03-01</th>\n",
       "      <td>322013</td>\n",
       "    </tr>\n",
       "    <tr>\n",
       "      <th>2010-04-01</th>\n",
       "      <td>-69417</td>\n",
       "    </tr>\n",
       "    <tr>\n",
       "      <th>2010-05-01</th>\n",
       "      <td>310503</td>\n",
       "    </tr>\n",
       "  </tbody>\n",
       "</table>\n",
       "</div>"
      ],
      "text/plain": [
       "            Profit/Losses\n",
       "Date                     \n",
       "2010-01-01         867884\n",
       "2010-02-01         984655\n",
       "2010-03-01         322013\n",
       "2010-04-01         -69417\n",
       "2010-05-01         310503"
      ]
     },
     "execution_count": 49,
     "metadata": {},
     "output_type": "execute_result"
    }
   ],
   "source": [
    "budget_data.head()"
   ]
  },
  {
   "cell_type": "code",
   "execution_count": 51,
   "id": "bab0c8e1",
   "metadata": {},
   "outputs": [
    {
     "data": {
      "text/plain": [
       "85.0284400090351"
      ]
     },
     "execution_count": 51,
     "metadata": {},
     "output_type": "execute_result"
    }
   ],
   "source": [
    "#Find total number of months included in the dataset\n",
    "\n",
    "oldest = budget_data.index.min() # Earliest date\n",
    "newest = budget_data.index.max() # Latest date\n",
    "\n",
    "number_of_months = ((newest - oldest)/np.timedelta64(1, 'M'))\n",
    "number_of_months\n"
   ]
  },
  {
   "cell_type": "code",
   "execution_count": 52,
   "id": "b2c600fc",
   "metadata": {},
   "outputs": [
    {
     "data": {
      "text/plain": [
       "38382578"
      ]
     },
     "execution_count": 52,
     "metadata": {},
     "output_type": "execute_result"
    }
   ],
   "source": [
    "# Find the total P&L\n",
    "\n",
    "Total_profit = budget_data['Profit/Losses'].sum()\n",
    "Total_profit"
   ]
  },
  {
   "cell_type": "code",
   "execution_count": 53,
   "id": "f117a1be",
   "metadata": {},
   "outputs": [
    {
     "data": {
      "text/plain": [
       "Profit/Losses   -0.286711\n",
       "dtype: float64"
      ]
     },
     "execution_count": 53,
     "metadata": {},
     "output_type": "execute_result"
    }
   ],
   "source": [
    "#The average of the changes in Profit/Losses over the entire period.\n",
    "\n",
    "pct_change = budget_data.pct_change()\n",
    "mean_change = pct_change.mean()\n",
    "\n",
    "mean_change"
   ]
  },
  {
   "cell_type": "code",
   "execution_count": 59,
   "id": "e0e05a14",
   "metadata": {},
   "outputs": [],
   "source": [
    "# The greatest increase and decrease in profits (date and amount) over the entire period.\n",
    "\n",
    "greatest_profit = budget_data['Profit/Losses'].max()\n",
    "\n",
    "greatest_loss = budget_data['Profit/Losses'].min()\n",
    "\n",
    "\n",
    "max_info = budget_data.loc[budget_data['Profit/Losses'] == greatest_profit].iloc[0]\n",
    "min_info = budget_data.loc[budget_data['Profit/Losses'] == greatest_loss,].iloc[0]"
   ]
  },
  {
   "cell_type": "code",
   "execution_count": 60,
   "id": "d9ed371b",
   "metadata": {},
   "outputs": [
    {
     "data": {
      "text/plain": [
       "Profit/Losses    1170593\n",
       "Name: 2012-02-01 00:00:00, dtype: int64"
      ]
     },
     "execution_count": 60,
     "metadata": {},
     "output_type": "execute_result"
    }
   ],
   "source": [
    "max_info"
   ]
  },
  {
   "cell_type": "code",
   "execution_count": 61,
   "id": "b0ac57a1",
   "metadata": {},
   "outputs": [
    {
     "data": {
      "text/plain": [
       "Profit/Losses   -1196225\n",
       "Name: 2013-09-01 00:00:00, dtype: int64"
      ]
     },
     "execution_count": 61,
     "metadata": {},
     "output_type": "execute_result"
    }
   ],
   "source": [
    "min_info"
   ]
  },
  {
   "cell_type": "code",
   "execution_count": 66,
   "id": "3cf9887b",
   "metadata": {},
   "outputs": [
    {
     "name": "stdout",
     "output_type": "stream",
     "text": [
      "Financial Analysis\n",
      "------------------------------\n",
      "Total Months: 85.0284400090351\n",
      "Total Profit or loss: 38382578\n",
      "Greatest increase in profits\n",
      "------------------------------\n",
      "Profit/Losses    1170593\n",
      "Name: 2012-02-01 00:00:00, dtype: int64\n",
      " \n",
      "Greatest loss\n",
      "------------------------------\n",
      "Profit/Losses   -1196225\n",
      "Name: 2013-09-01 00:00:00, dtype: int64\n"
     ]
    }
   ],
   "source": [
    "#Printout\n",
    "\n",
    "print(f'Financial Analysis')\n",
    "print(f'------------------------------')\n",
    "print(f'Total Months: {number_of_months}')\n",
    "print(f'Total Profit or loss: {Total_profit}')\n",
    "print(f'Greatest increase in profits')\n",
    "print(f'------------------------------')\n",
    "print(f'{max_info}')\n",
    "print(f' ')\n",
    "print(f'Greatest loss')\n",
    "print(f'------------------------------')\n",
    "print(f'{min_info}')"
   ]
  },
  {
   "cell_type": "code",
   "execution_count": null,
   "id": "00f2777e",
   "metadata": {},
   "outputs": [],
   "source": []
  }
 ],
 "metadata": {
  "kernelspec": {
   "display_name": "Python [conda env:pyvizenv] *",
   "language": "python",
   "name": "conda-env-pyvizenv-py"
  },
  "language_info": {
   "codemirror_mode": {
    "name": "ipython",
    "version": 3
   },
   "file_extension": ".py",
   "mimetype": "text/x-python",
   "name": "python",
   "nbconvert_exporter": "python",
   "pygments_lexer": "ipython3",
   "version": "3.7.11"
  }
 },
 "nbformat": 4,
 "nbformat_minor": 5
}
